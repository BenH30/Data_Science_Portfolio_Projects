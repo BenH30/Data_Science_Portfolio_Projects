{
 "cells": [
  {
   "cell_type": "code",
   "id": "initial_id",
   "metadata": {
    "collapsed": true,
    "ExecuteTime": {
     "end_time": "2024-07-30T21:08:10.839187Z",
     "start_time": "2024-07-30T21:08:10.831590Z"
    }
   },
   "source": "import pandas as pd",
   "outputs": [],
   "execution_count": 4
  },
  {
   "metadata": {
    "ExecuteTime": {
     "end_time": "2024-07-30T21:26:02.496384Z",
     "start_time": "2024-07-30T21:26:02.476069Z"
    }
   },
   "cell_type": "code",
   "source": [
    "df = pd.read_csv('mission_launches.csv') # create a data frame for the launches\n",
    "df_copy = df.copy() # create a copy of the data frame to preserve the original data"
   ],
   "id": "225de2a89fe0caf6",
   "outputs": [],
   "execution_count": 11
  },
  {
   "metadata": {
    "ExecuteTime": {
     "end_time": "2024-07-30T21:26:06.058524Z",
     "start_time": "2024-07-30T21:26:06.048105Z"
    }
   },
   "cell_type": "code",
   "source": "df_copy.head()",
   "id": "65d336a64dc1dce2",
   "outputs": [
    {
     "data": {
      "text/plain": [
       "   Unnamed: 0.1  Unnamed: 0 Organisation  \\\n",
       "0             0           0       SpaceX   \n",
       "1             1           1         CASC   \n",
       "2             2           2       SpaceX   \n",
       "3             3           3    Roscosmos   \n",
       "4             4           4          ULA   \n",
       "\n",
       "                                            Location  \\\n",
       "0         LC-39A, Kennedy Space Center, Florida, USA   \n",
       "1  Site 9401 (SLS-2), Jiuquan Satellite Launch Ce...   \n",
       "2                      Pad A, Boca Chica, Texas, USA   \n",
       "3       Site 200/39, Baikonur Cosmodrome, Kazakhstan   \n",
       "4           SLC-41, Cape Canaveral AFS, Florida, USA   \n",
       "\n",
       "                         Date                                        Detail  \\\n",
       "0  Fri Aug 07, 2020 05:12 UTC  Falcon 9 Block 5 | Starlink V1 L9 & BlackSky   \n",
       "1  Thu Aug 06, 2020 04:01 UTC           Long March 2D | Gaofen-9 04 & Q-SAT   \n",
       "2  Tue Aug 04, 2020 23:57 UTC            Starship Prototype | 150 Meter Hop   \n",
       "3  Thu Jul 30, 2020 21:25 UTC  Proton-M/Briz-M | Ekspress-80 & Ekspress-103   \n",
       "4  Thu Jul 30, 2020 11:50 UTC                    Atlas V 541 | Perseverance   \n",
       "\n",
       "  Rocket_Status  Price Mission_Status  \n",
       "0  StatusActive   50.0        Success  \n",
       "1  StatusActive  29.75        Success  \n",
       "2  StatusActive    NaN        Success  \n",
       "3  StatusActive   65.0        Success  \n",
       "4  StatusActive  145.0        Success  "
      ],
      "text/html": [
       "<div>\n",
       "<style scoped>\n",
       "    .dataframe tbody tr th:only-of-type {\n",
       "        vertical-align: middle;\n",
       "    }\n",
       "\n",
       "    .dataframe tbody tr th {\n",
       "        vertical-align: top;\n",
       "    }\n",
       "\n",
       "    .dataframe thead th {\n",
       "        text-align: right;\n",
       "    }\n",
       "</style>\n",
       "<table border=\"1\" class=\"dataframe\">\n",
       "  <thead>\n",
       "    <tr style=\"text-align: right;\">\n",
       "      <th></th>\n",
       "      <th>Unnamed: 0.1</th>\n",
       "      <th>Unnamed: 0</th>\n",
       "      <th>Organisation</th>\n",
       "      <th>Location</th>\n",
       "      <th>Date</th>\n",
       "      <th>Detail</th>\n",
       "      <th>Rocket_Status</th>\n",
       "      <th>Price</th>\n",
       "      <th>Mission_Status</th>\n",
       "    </tr>\n",
       "  </thead>\n",
       "  <tbody>\n",
       "    <tr>\n",
       "      <th>0</th>\n",
       "      <td>0</td>\n",
       "      <td>0</td>\n",
       "      <td>SpaceX</td>\n",
       "      <td>LC-39A, Kennedy Space Center, Florida, USA</td>\n",
       "      <td>Fri Aug 07, 2020 05:12 UTC</td>\n",
       "      <td>Falcon 9 Block 5 | Starlink V1 L9 &amp; BlackSky</td>\n",
       "      <td>StatusActive</td>\n",
       "      <td>50.0</td>\n",
       "      <td>Success</td>\n",
       "    </tr>\n",
       "    <tr>\n",
       "      <th>1</th>\n",
       "      <td>1</td>\n",
       "      <td>1</td>\n",
       "      <td>CASC</td>\n",
       "      <td>Site 9401 (SLS-2), Jiuquan Satellite Launch Ce...</td>\n",
       "      <td>Thu Aug 06, 2020 04:01 UTC</td>\n",
       "      <td>Long March 2D | Gaofen-9 04 &amp; Q-SAT</td>\n",
       "      <td>StatusActive</td>\n",
       "      <td>29.75</td>\n",
       "      <td>Success</td>\n",
       "    </tr>\n",
       "    <tr>\n",
       "      <th>2</th>\n",
       "      <td>2</td>\n",
       "      <td>2</td>\n",
       "      <td>SpaceX</td>\n",
       "      <td>Pad A, Boca Chica, Texas, USA</td>\n",
       "      <td>Tue Aug 04, 2020 23:57 UTC</td>\n",
       "      <td>Starship Prototype | 150 Meter Hop</td>\n",
       "      <td>StatusActive</td>\n",
       "      <td>NaN</td>\n",
       "      <td>Success</td>\n",
       "    </tr>\n",
       "    <tr>\n",
       "      <th>3</th>\n",
       "      <td>3</td>\n",
       "      <td>3</td>\n",
       "      <td>Roscosmos</td>\n",
       "      <td>Site 200/39, Baikonur Cosmodrome, Kazakhstan</td>\n",
       "      <td>Thu Jul 30, 2020 21:25 UTC</td>\n",
       "      <td>Proton-M/Briz-M | Ekspress-80 &amp; Ekspress-103</td>\n",
       "      <td>StatusActive</td>\n",
       "      <td>65.0</td>\n",
       "      <td>Success</td>\n",
       "    </tr>\n",
       "    <tr>\n",
       "      <th>4</th>\n",
       "      <td>4</td>\n",
       "      <td>4</td>\n",
       "      <td>ULA</td>\n",
       "      <td>SLC-41, Cape Canaveral AFS, Florida, USA</td>\n",
       "      <td>Thu Jul 30, 2020 11:50 UTC</td>\n",
       "      <td>Atlas V 541 | Perseverance</td>\n",
       "      <td>StatusActive</td>\n",
       "      <td>145.0</td>\n",
       "      <td>Success</td>\n",
       "    </tr>\n",
       "  </tbody>\n",
       "</table>\n",
       "</div>"
      ]
     },
     "execution_count": 12,
     "metadata": {},
     "output_type": "execute_result"
    }
   ],
   "execution_count": 12
  },
  {
   "metadata": {
    "ExecuteTime": {
     "end_time": "2024-07-31T14:48:18.370882Z",
     "start_time": "2024-07-31T14:48:18.360009Z"
    }
   },
   "cell_type": "code",
   "source": [
    "df.drop(columns=['Unnamed: 0.1', 'Unnamed: 0'], inplace=True)\n",
    "df.head()"
   ],
   "id": "8bba972a65d5b792",
   "outputs": [
    {
     "data": {
      "text/plain": [
       "  Organisation                                           Location  \\\n",
       "0       SpaceX         LC-39A, Kennedy Space Center, Florida, USA   \n",
       "1         CASC  Site 9401 (SLS-2), Jiuquan Satellite Launch Ce...   \n",
       "2       SpaceX                      Pad A, Boca Chica, Texas, USA   \n",
       "3    Roscosmos       Site 200/39, Baikonur Cosmodrome, Kazakhstan   \n",
       "4          ULA           SLC-41, Cape Canaveral AFS, Florida, USA   \n",
       "\n",
       "                         Date                                        Detail  \\\n",
       "0  Fri Aug 07, 2020 05:12 UTC  Falcon 9 Block 5 | Starlink V1 L9 & BlackSky   \n",
       "1  Thu Aug 06, 2020 04:01 UTC           Long March 2D | Gaofen-9 04 & Q-SAT   \n",
       "2  Tue Aug 04, 2020 23:57 UTC            Starship Prototype | 150 Meter Hop   \n",
       "3  Thu Jul 30, 2020 21:25 UTC  Proton-M/Briz-M | Ekspress-80 & Ekspress-103   \n",
       "4  Thu Jul 30, 2020 11:50 UTC                    Atlas V 541 | Perseverance   \n",
       "\n",
       "  Rocket_Status  Price Mission_Status  \n",
       "0  StatusActive   50.0        Success  \n",
       "1  StatusActive  29.75        Success  \n",
       "2  StatusActive    NaN        Success  \n",
       "3  StatusActive   65.0        Success  \n",
       "4  StatusActive  145.0        Success  "
      ],
      "text/html": [
       "<div>\n",
       "<style scoped>\n",
       "    .dataframe tbody tr th:only-of-type {\n",
       "        vertical-align: middle;\n",
       "    }\n",
       "\n",
       "    .dataframe tbody tr th {\n",
       "        vertical-align: top;\n",
       "    }\n",
       "\n",
       "    .dataframe thead th {\n",
       "        text-align: right;\n",
       "    }\n",
       "</style>\n",
       "<table border=\"1\" class=\"dataframe\">\n",
       "  <thead>\n",
       "    <tr style=\"text-align: right;\">\n",
       "      <th></th>\n",
       "      <th>Organisation</th>\n",
       "      <th>Location</th>\n",
       "      <th>Date</th>\n",
       "      <th>Detail</th>\n",
       "      <th>Rocket_Status</th>\n",
       "      <th>Price</th>\n",
       "      <th>Mission_Status</th>\n",
       "    </tr>\n",
       "  </thead>\n",
       "  <tbody>\n",
       "    <tr>\n",
       "      <th>0</th>\n",
       "      <td>SpaceX</td>\n",
       "      <td>LC-39A, Kennedy Space Center, Florida, USA</td>\n",
       "      <td>Fri Aug 07, 2020 05:12 UTC</td>\n",
       "      <td>Falcon 9 Block 5 | Starlink V1 L9 &amp; BlackSky</td>\n",
       "      <td>StatusActive</td>\n",
       "      <td>50.0</td>\n",
       "      <td>Success</td>\n",
       "    </tr>\n",
       "    <tr>\n",
       "      <th>1</th>\n",
       "      <td>CASC</td>\n",
       "      <td>Site 9401 (SLS-2), Jiuquan Satellite Launch Ce...</td>\n",
       "      <td>Thu Aug 06, 2020 04:01 UTC</td>\n",
       "      <td>Long March 2D | Gaofen-9 04 &amp; Q-SAT</td>\n",
       "      <td>StatusActive</td>\n",
       "      <td>29.75</td>\n",
       "      <td>Success</td>\n",
       "    </tr>\n",
       "    <tr>\n",
       "      <th>2</th>\n",
       "      <td>SpaceX</td>\n",
       "      <td>Pad A, Boca Chica, Texas, USA</td>\n",
       "      <td>Tue Aug 04, 2020 23:57 UTC</td>\n",
       "      <td>Starship Prototype | 150 Meter Hop</td>\n",
       "      <td>StatusActive</td>\n",
       "      <td>NaN</td>\n",
       "      <td>Success</td>\n",
       "    </tr>\n",
       "    <tr>\n",
       "      <th>3</th>\n",
       "      <td>Roscosmos</td>\n",
       "      <td>Site 200/39, Baikonur Cosmodrome, Kazakhstan</td>\n",
       "      <td>Thu Jul 30, 2020 21:25 UTC</td>\n",
       "      <td>Proton-M/Briz-M | Ekspress-80 &amp; Ekspress-103</td>\n",
       "      <td>StatusActive</td>\n",
       "      <td>65.0</td>\n",
       "      <td>Success</td>\n",
       "    </tr>\n",
       "    <tr>\n",
       "      <th>4</th>\n",
       "      <td>ULA</td>\n",
       "      <td>SLC-41, Cape Canaveral AFS, Florida, USA</td>\n",
       "      <td>Thu Jul 30, 2020 11:50 UTC</td>\n",
       "      <td>Atlas V 541 | Perseverance</td>\n",
       "      <td>StatusActive</td>\n",
       "      <td>145.0</td>\n",
       "      <td>Success</td>\n",
       "    </tr>\n",
       "  </tbody>\n",
       "</table>\n",
       "</div>"
      ]
     },
     "execution_count": 43,
     "metadata": {},
     "output_type": "execute_result"
    }
   ],
   "execution_count": 43
  },
  {
   "metadata": {},
   "cell_type": "markdown",
   "source": [
    "Launch Frequency:\n",
    "\n",
    "What year had the most launches?\n",
    "\n",
    "What is the percent change?\n",
    "\n",
    "For the Falcon 9, is the launch tempo increasing?"
   ],
   "id": "3bb4364678c33995"
  },
  {
   "metadata": {
    "ExecuteTime": {
     "end_time": "2024-07-31T20:27:56.773128Z",
     "start_time": "2024-07-31T20:27:56.050374Z"
    }
   },
   "cell_type": "code",
   "source": [
    "date_testing = pd.to_datetime(df['Date'], errors='coerce')\n",
    "# Function to convert date string to datetime and extract components\n",
    "def extract_date_components(date_str):\n",
    "    try:\n",
    "        # Check if the date string has fewer than 5 elements (indicating missing time)\n",
    "        if len(date_str.split()) < 5:\n",
    "            # Add \"00:00 UTC\" to the date string\n",
    "            date_str += \" 00:00 UTC\"\n",
    "        # Convert to datetime\n",
    "        dt = pd.to_datetime(date_str, format=\"%a %b %d, %Y %H:%M %Z\")\n",
    "        return pd.Series([dt.year, dt.month, dt.strftime(\"%b\"), dt])\n",
    "    except Exception as e:\n",
    "        print(f\"Error processing date '{date_str}': {e}\")\n",
    "        return pd.Series([pd.NA, pd.NA, pd.NA, pd.NaT])\n",
    "\n",
    "# Applying the function to the 'Date' column\n",
    "df[['Year', 'MonthNum', 'MonthName', 'DateTime']] = df['Date'].apply(extract_date_components)\n",
    "df.drop(columns=['Month', 'MonthNum'], inplace=True)\n",
    "df.head(110)"
   ],
   "id": "1a13fb19b0a03f9e",
   "outputs": [
    {
     "data": {
      "text/plain": [
       "    Organisation                                           Location  \\\n",
       "0         SpaceX         LC-39A, Kennedy Space Center, Florida, USA   \n",
       "1           CASC  Site 9401 (SLS-2), Jiuquan Satellite Launch Ce...   \n",
       "2         SpaceX                      Pad A, Boca Chica, Texas, USA   \n",
       "3      Roscosmos       Site 200/39, Baikonur Cosmodrome, Kazakhstan   \n",
       "4            ULA           SLC-41, Cape Canaveral AFS, Florida, USA   \n",
       "..           ...                                                ...   \n",
       "105       VKS RF            Site 133/3, Plesetsk Cosmodrome, Russia   \n",
       "106          ISA  Imam Khomeini Spaceport, Semnan Space Center, ...   \n",
       "107          ULA          SLC-37B, Cape Canaveral AFS, Florida, USA   \n",
       "108    Roscosmos         Site 31/6, Baikonur Cosmodrome, Kazakhstan   \n",
       "109   Rocket Lab    Rocket Lab LC-1A, M?hia Peninsula, New Zealand   \n",
       "\n",
       "                           Date                                        Detail  \\\n",
       "0    Fri Aug 07, 2020 05:12 UTC  Falcon 9 Block 5 | Starlink V1 L9 & BlackSky   \n",
       "1    Thu Aug 06, 2020 04:01 UTC           Long March 2D | Gaofen-9 04 & Q-SAT   \n",
       "2    Tue Aug 04, 2020 23:57 UTC            Starship Prototype | 150 Meter Hop   \n",
       "3    Thu Jul 30, 2020 21:25 UTC  Proton-M/Briz-M | Ekspress-80 & Ekspress-103   \n",
       "4    Thu Jul 30, 2020 11:50 UTC                    Atlas V 541 | Perseverance   \n",
       "..                          ...                                           ...   \n",
       "105  Fri Aug 30, 2019 14:00 UTC                   Rokot/Briz KM | Cosmos 2540   \n",
       "106            Thu Aug 29, 2019                           Safir-1B+ | Nahid-1   \n",
       "107  Thu Aug 22, 2019 13:06 UTC         Delta IV Medium+ (4,2) | GPS III SV02   \n",
       "108  Thu Aug 22, 2019 03:38 UTC                Soyuz 2.1a | Soyuz MS-14 (60S)   \n",
       "109  Mon Aug 19, 2019 12:12 UTC           Electron/Curie | Look Ma, No Hands!   \n",
       "\n",
       "     Rocket_Status  Price     Mission_Status  Year   Time MonthName  \\\n",
       "0     StatusActive   50.0            Success  2020  05:12       Aug   \n",
       "1     StatusActive  29.75            Success  2020  04:01       Aug   \n",
       "2     StatusActive    NaN            Success  2020  23:57       Aug   \n",
       "3     StatusActive   65.0            Success  2020  21:25       Jul   \n",
       "4     StatusActive  145.0            Success  2020  11:50       Jul   \n",
       "..             ...    ...                ...   ...    ...       ...   \n",
       "105  StatusRetired   41.8            Success  2019  14:00       Aug   \n",
       "106   StatusActive    NaN  Prelaunch Failure  2019  00:00       Aug   \n",
       "107  StatusRetired  164.0            Success  2019  13:06       Aug   \n",
       "108   StatusActive   48.5            Success  2019  03:38       Aug   \n",
       "109   StatusActive    7.5            Success  2019  12:12       Aug   \n",
       "\n",
       "                     DateTime  \n",
       "0   2020-08-07 05:12:00+00:00  \n",
       "1   2020-08-06 04:01:00+00:00  \n",
       "2   2020-08-04 23:57:00+00:00  \n",
       "3   2020-07-30 21:25:00+00:00  \n",
       "4   2020-07-30 11:50:00+00:00  \n",
       "..                        ...  \n",
       "105 2019-08-30 14:00:00+00:00  \n",
       "106 2019-08-29 00:00:00+00:00  \n",
       "107 2019-08-22 13:06:00+00:00  \n",
       "108 2019-08-22 03:38:00+00:00  \n",
       "109 2019-08-19 12:12:00+00:00  \n",
       "\n",
       "[110 rows x 11 columns]"
      ],
      "text/html": [
       "<div>\n",
       "<style scoped>\n",
       "    .dataframe tbody tr th:only-of-type {\n",
       "        vertical-align: middle;\n",
       "    }\n",
       "\n",
       "    .dataframe tbody tr th {\n",
       "        vertical-align: top;\n",
       "    }\n",
       "\n",
       "    .dataframe thead th {\n",
       "        text-align: right;\n",
       "    }\n",
       "</style>\n",
       "<table border=\"1\" class=\"dataframe\">\n",
       "  <thead>\n",
       "    <tr style=\"text-align: right;\">\n",
       "      <th></th>\n",
       "      <th>Organisation</th>\n",
       "      <th>Location</th>\n",
       "      <th>Date</th>\n",
       "      <th>Detail</th>\n",
       "      <th>Rocket_Status</th>\n",
       "      <th>Price</th>\n",
       "      <th>Mission_Status</th>\n",
       "      <th>Year</th>\n",
       "      <th>Time</th>\n",
       "      <th>MonthName</th>\n",
       "      <th>DateTime</th>\n",
       "    </tr>\n",
       "  </thead>\n",
       "  <tbody>\n",
       "    <tr>\n",
       "      <th>0</th>\n",
       "      <td>SpaceX</td>\n",
       "      <td>LC-39A, Kennedy Space Center, Florida, USA</td>\n",
       "      <td>Fri Aug 07, 2020 05:12 UTC</td>\n",
       "      <td>Falcon 9 Block 5 | Starlink V1 L9 &amp; BlackSky</td>\n",
       "      <td>StatusActive</td>\n",
       "      <td>50.0</td>\n",
       "      <td>Success</td>\n",
       "      <td>2020</td>\n",
       "      <td>05:12</td>\n",
       "      <td>Aug</td>\n",
       "      <td>2020-08-07 05:12:00+00:00</td>\n",
       "    </tr>\n",
       "    <tr>\n",
       "      <th>1</th>\n",
       "      <td>CASC</td>\n",
       "      <td>Site 9401 (SLS-2), Jiuquan Satellite Launch Ce...</td>\n",
       "      <td>Thu Aug 06, 2020 04:01 UTC</td>\n",
       "      <td>Long March 2D | Gaofen-9 04 &amp; Q-SAT</td>\n",
       "      <td>StatusActive</td>\n",
       "      <td>29.75</td>\n",
       "      <td>Success</td>\n",
       "      <td>2020</td>\n",
       "      <td>04:01</td>\n",
       "      <td>Aug</td>\n",
       "      <td>2020-08-06 04:01:00+00:00</td>\n",
       "    </tr>\n",
       "    <tr>\n",
       "      <th>2</th>\n",
       "      <td>SpaceX</td>\n",
       "      <td>Pad A, Boca Chica, Texas, USA</td>\n",
       "      <td>Tue Aug 04, 2020 23:57 UTC</td>\n",
       "      <td>Starship Prototype | 150 Meter Hop</td>\n",
       "      <td>StatusActive</td>\n",
       "      <td>NaN</td>\n",
       "      <td>Success</td>\n",
       "      <td>2020</td>\n",
       "      <td>23:57</td>\n",
       "      <td>Aug</td>\n",
       "      <td>2020-08-04 23:57:00+00:00</td>\n",
       "    </tr>\n",
       "    <tr>\n",
       "      <th>3</th>\n",
       "      <td>Roscosmos</td>\n",
       "      <td>Site 200/39, Baikonur Cosmodrome, Kazakhstan</td>\n",
       "      <td>Thu Jul 30, 2020 21:25 UTC</td>\n",
       "      <td>Proton-M/Briz-M | Ekspress-80 &amp; Ekspress-103</td>\n",
       "      <td>StatusActive</td>\n",
       "      <td>65.0</td>\n",
       "      <td>Success</td>\n",
       "      <td>2020</td>\n",
       "      <td>21:25</td>\n",
       "      <td>Jul</td>\n",
       "      <td>2020-07-30 21:25:00+00:00</td>\n",
       "    </tr>\n",
       "    <tr>\n",
       "      <th>4</th>\n",
       "      <td>ULA</td>\n",
       "      <td>SLC-41, Cape Canaveral AFS, Florida, USA</td>\n",
       "      <td>Thu Jul 30, 2020 11:50 UTC</td>\n",
       "      <td>Atlas V 541 | Perseverance</td>\n",
       "      <td>StatusActive</td>\n",
       "      <td>145.0</td>\n",
       "      <td>Success</td>\n",
       "      <td>2020</td>\n",
       "      <td>11:50</td>\n",
       "      <td>Jul</td>\n",
       "      <td>2020-07-30 11:50:00+00:00</td>\n",
       "    </tr>\n",
       "    <tr>\n",
       "      <th>...</th>\n",
       "      <td>...</td>\n",
       "      <td>...</td>\n",
       "      <td>...</td>\n",
       "      <td>...</td>\n",
       "      <td>...</td>\n",
       "      <td>...</td>\n",
       "      <td>...</td>\n",
       "      <td>...</td>\n",
       "      <td>...</td>\n",
       "      <td>...</td>\n",
       "      <td>...</td>\n",
       "    </tr>\n",
       "    <tr>\n",
       "      <th>105</th>\n",
       "      <td>VKS RF</td>\n",
       "      <td>Site 133/3, Plesetsk Cosmodrome, Russia</td>\n",
       "      <td>Fri Aug 30, 2019 14:00 UTC</td>\n",
       "      <td>Rokot/Briz KM | Cosmos 2540</td>\n",
       "      <td>StatusRetired</td>\n",
       "      <td>41.8</td>\n",
       "      <td>Success</td>\n",
       "      <td>2019</td>\n",
       "      <td>14:00</td>\n",
       "      <td>Aug</td>\n",
       "      <td>2019-08-30 14:00:00+00:00</td>\n",
       "    </tr>\n",
       "    <tr>\n",
       "      <th>106</th>\n",
       "      <td>ISA</td>\n",
       "      <td>Imam Khomeini Spaceport, Semnan Space Center, ...</td>\n",
       "      <td>Thu Aug 29, 2019</td>\n",
       "      <td>Safir-1B+ | Nahid-1</td>\n",
       "      <td>StatusActive</td>\n",
       "      <td>NaN</td>\n",
       "      <td>Prelaunch Failure</td>\n",
       "      <td>2019</td>\n",
       "      <td>00:00</td>\n",
       "      <td>Aug</td>\n",
       "      <td>2019-08-29 00:00:00+00:00</td>\n",
       "    </tr>\n",
       "    <tr>\n",
       "      <th>107</th>\n",
       "      <td>ULA</td>\n",
       "      <td>SLC-37B, Cape Canaveral AFS, Florida, USA</td>\n",
       "      <td>Thu Aug 22, 2019 13:06 UTC</td>\n",
       "      <td>Delta IV Medium+ (4,2) | GPS III SV02</td>\n",
       "      <td>StatusRetired</td>\n",
       "      <td>164.0</td>\n",
       "      <td>Success</td>\n",
       "      <td>2019</td>\n",
       "      <td>13:06</td>\n",
       "      <td>Aug</td>\n",
       "      <td>2019-08-22 13:06:00+00:00</td>\n",
       "    </tr>\n",
       "    <tr>\n",
       "      <th>108</th>\n",
       "      <td>Roscosmos</td>\n",
       "      <td>Site 31/6, Baikonur Cosmodrome, Kazakhstan</td>\n",
       "      <td>Thu Aug 22, 2019 03:38 UTC</td>\n",
       "      <td>Soyuz 2.1a | Soyuz MS-14 (60S)</td>\n",
       "      <td>StatusActive</td>\n",
       "      <td>48.5</td>\n",
       "      <td>Success</td>\n",
       "      <td>2019</td>\n",
       "      <td>03:38</td>\n",
       "      <td>Aug</td>\n",
       "      <td>2019-08-22 03:38:00+00:00</td>\n",
       "    </tr>\n",
       "    <tr>\n",
       "      <th>109</th>\n",
       "      <td>Rocket Lab</td>\n",
       "      <td>Rocket Lab LC-1A, M?hia Peninsula, New Zealand</td>\n",
       "      <td>Mon Aug 19, 2019 12:12 UTC</td>\n",
       "      <td>Electron/Curie | Look Ma, No Hands!</td>\n",
       "      <td>StatusActive</td>\n",
       "      <td>7.5</td>\n",
       "      <td>Success</td>\n",
       "      <td>2019</td>\n",
       "      <td>12:12</td>\n",
       "      <td>Aug</td>\n",
       "      <td>2019-08-19 12:12:00+00:00</td>\n",
       "    </tr>\n",
       "  </tbody>\n",
       "</table>\n",
       "<p>110 rows × 11 columns</p>\n",
       "</div>"
      ]
     },
     "execution_count": 163,
     "metadata": {},
     "output_type": "execute_result"
    }
   ],
   "execution_count": 163
  },
  {
   "metadata": {
    "ExecuteTime": {
     "end_time": "2024-07-31T20:29:17.392420Z",
     "start_time": "2024-07-31T20:29:16.278703Z"
    }
   },
   "cell_type": "code",
   "source": [
    "# Split 'Location' column by comma\n",
    "split_cols = df['Location'].str.split(',', expand=True)\n",
    "\n",
    "# Assign split columns to new DataFrame\n",
    "af = pd.DataFrame()\n",
    "af['Organisation'] = df['Organisation'].astype('category')\n",
    "af['Launch Pad'] = split_cols[0].str.strip().astype('category')\n",
    "af['Launch Center'] = split_cols[1].str.strip().astype('category') if split_cols.shape[1] > 1 else None\n",
    "\n",
    "# Determine Launch State and Launch Country\n",
    "def determine_state_and_country(row):\n",
    "    parts = row[['Launch State', 'Launch Country']].values\n",
    "    # print(parts)\n",
    "    # If the last part is not 'None' and there is no state, it should be the country\n",
    "    if len(parts) > 1 and pd.isna(parts[1]):\n",
    "        # print(parts[0])\n",
    "        return pd.Series(['', parts[0]])\n",
    "    elif len(parts) > 1:\n",
    "        # print('State and Country')\n",
    "        return pd.Series([parts[0], parts[1]])\n",
    "    else:\n",
    "        # print('No state/country combination')\n",
    "        return pd.Series([pd.NA, pd.NA])\n",
    "\n",
    "af['Launch State'] = split_cols[2].str.strip().astype('category') if split_cols.shape[1] > 2 else pd.NA\n",
    "af['Launch Country'] = split_cols[3].str.strip().astype('category') if split_cols.shape[1] > 3 else pd.NA\n",
    "\n",
    "# Correcting the values using the defined function\n",
    "af[['Launch State', 'Launch Country']] = af.apply(determine_state_and_country, axis=1).astype('category')\n",
    "\n",
    "af['Month'] = df['MonthName'].astype('category')\n",
    "af['Year'] = df['Year'].astype('category')\n",
    "af.to_csv('mission_analysis.csv', index=False)\n",
    "af.head()"
   ],
   "id": "5e1d543bcdcb77c6",
   "outputs": [
    {
     "data": {
      "text/plain": [
       "  Organisation         Launch Pad                    Launch Center  \\\n",
       "0       SpaceX             LC-39A             Kennedy Space Center   \n",
       "1         CASC  Site 9401 (SLS-2)  Jiuquan Satellite Launch Center   \n",
       "2       SpaceX              Pad A                       Boca Chica   \n",
       "3    Roscosmos        Site 200/39              Baikonur Cosmodrome   \n",
       "4          ULA             SLC-41               Cape Canaveral AFS   \n",
       "\n",
       "  Launch State Launch Country Month  Year  \n",
       "0      Florida            USA   Aug  2020  \n",
       "1                       China   Aug  2020  \n",
       "2        Texas            USA   Aug  2020  \n",
       "3                  Kazakhstan   Jul  2020  \n",
       "4      Florida            USA   Jul  2020  "
      ],
      "text/html": [
       "<div>\n",
       "<style scoped>\n",
       "    .dataframe tbody tr th:only-of-type {\n",
       "        vertical-align: middle;\n",
       "    }\n",
       "\n",
       "    .dataframe tbody tr th {\n",
       "        vertical-align: top;\n",
       "    }\n",
       "\n",
       "    .dataframe thead th {\n",
       "        text-align: right;\n",
       "    }\n",
       "</style>\n",
       "<table border=\"1\" class=\"dataframe\">\n",
       "  <thead>\n",
       "    <tr style=\"text-align: right;\">\n",
       "      <th></th>\n",
       "      <th>Organisation</th>\n",
       "      <th>Launch Pad</th>\n",
       "      <th>Launch Center</th>\n",
       "      <th>Launch State</th>\n",
       "      <th>Launch Country</th>\n",
       "      <th>Month</th>\n",
       "      <th>Year</th>\n",
       "    </tr>\n",
       "  </thead>\n",
       "  <tbody>\n",
       "    <tr>\n",
       "      <th>0</th>\n",
       "      <td>SpaceX</td>\n",
       "      <td>LC-39A</td>\n",
       "      <td>Kennedy Space Center</td>\n",
       "      <td>Florida</td>\n",
       "      <td>USA</td>\n",
       "      <td>Aug</td>\n",
       "      <td>2020</td>\n",
       "    </tr>\n",
       "    <tr>\n",
       "      <th>1</th>\n",
       "      <td>CASC</td>\n",
       "      <td>Site 9401 (SLS-2)</td>\n",
       "      <td>Jiuquan Satellite Launch Center</td>\n",
       "      <td></td>\n",
       "      <td>China</td>\n",
       "      <td>Aug</td>\n",
       "      <td>2020</td>\n",
       "    </tr>\n",
       "    <tr>\n",
       "      <th>2</th>\n",
       "      <td>SpaceX</td>\n",
       "      <td>Pad A</td>\n",
       "      <td>Boca Chica</td>\n",
       "      <td>Texas</td>\n",
       "      <td>USA</td>\n",
       "      <td>Aug</td>\n",
       "      <td>2020</td>\n",
       "    </tr>\n",
       "    <tr>\n",
       "      <th>3</th>\n",
       "      <td>Roscosmos</td>\n",
       "      <td>Site 200/39</td>\n",
       "      <td>Baikonur Cosmodrome</td>\n",
       "      <td></td>\n",
       "      <td>Kazakhstan</td>\n",
       "      <td>Jul</td>\n",
       "      <td>2020</td>\n",
       "    </tr>\n",
       "    <tr>\n",
       "      <th>4</th>\n",
       "      <td>ULA</td>\n",
       "      <td>SLC-41</td>\n",
       "      <td>Cape Canaveral AFS</td>\n",
       "      <td>Florida</td>\n",
       "      <td>USA</td>\n",
       "      <td>Jul</td>\n",
       "      <td>2020</td>\n",
       "    </tr>\n",
       "  </tbody>\n",
       "</table>\n",
       "</div>"
      ]
     },
     "execution_count": 167,
     "metadata": {},
     "output_type": "execute_result"
    }
   ],
   "execution_count": 167
  },
  {
   "metadata": {
    "ExecuteTime": {
     "end_time": "2024-07-31T20:30:04.914560Z",
     "start_time": "2024-07-31T20:30:04.908584Z"
    }
   },
   "cell_type": "code",
   "source": "\n",
   "id": "9574c602b1f168b5",
   "outputs": [
    {
     "data": {
      "text/plain": [
       "Launch State\n",
       "                    2674\n",
       "Florida              834\n",
       "California           454\n",
       "French Guiana        299\n",
       "Virginia              31\n",
       "Texas                 13\n",
       "Marshall Islands       9\n",
       "Algeria                4\n",
       "Alaska                 3\n",
       "Maranh?œo              3\n",
       "Name: count, dtype: int64"
      ]
     },
     "execution_count": 169,
     "metadata": {},
     "output_type": "execute_result"
    }
   ],
   "execution_count": 169
  },
  {
   "metadata": {
    "ExecuteTime": {
     "end_time": "2024-07-31T19:21:24.224079Z",
     "start_time": "2024-07-31T19:21:24.216177Z"
    }
   },
   "cell_type": "code",
   "source": "af['Launch Country'].value_counts()\n",
   "id": "368c8a354df1ea79",
   "outputs": [
    {
     "data": {
      "text/plain": [
       "Launch Country\n",
       "Russia                            1390\n",
       "USA                               1344\n",
       "Kazakhstan                         701\n",
       "France                             303\n",
       "China                              259\n",
       "Japan                              119\n",
       "India                               76\n",
       "Pacific Ocean                       36\n",
       "New Zealand                         13\n",
       "Iran                                13\n",
       "Israel                              11\n",
       "Kenya                                9\n",
       "Australia                            6\n",
       "North Korea                          5\n",
       "New Mexico                           4\n",
       "Barents Sea                          3\n",
       "Brazil                               3\n",
       "South Korea                          3\n",
       "Gran Canaria                         2\n",
       "Pacific Missile Range Facility       1\n",
       "Name: count, dtype: int64"
      ]
     },
     "execution_count": 97,
     "metadata": {},
     "output_type": "execute_result"
    }
   ],
   "execution_count": 97
  },
  {
   "metadata": {
    "ExecuteTime": {
     "end_time": "2024-07-31T20:31:05.472273Z",
     "start_time": "2024-07-31T20:31:05.458817Z"
    }
   },
   "cell_type": "code",
   "source": [
    "us_filter = af['Launch Country'].isin(['USA'])\n",
    "us_df = af[us_filter]\n",
    "us_df['Launch State'].value_counts()\n",
    "# us_launch_cadence = pd.DataFrame(us_df['Year'].value_counts().sort_index())\n",
    "# us_launch_cadence.index"
   ],
   "id": "859611da36e6b1e",
   "outputs": [
    {
     "data": {
      "text/plain": [
       "Launch State\n",
       "Florida             834\n",
       "California          454\n",
       "Virginia             31\n",
       "Texas                13\n",
       "Marshall Islands      9\n",
       "Alaska                3\n",
       "                      0\n",
       "Algeria               0\n",
       "French Guiana         0\n",
       "Maranh?œo             0\n",
       "Name: count, dtype: int64"
      ]
     },
     "execution_count": 171,
     "metadata": {},
     "output_type": "execute_result"
    }
   ],
   "execution_count": 171
  },
  {
   "metadata": {
    "ExecuteTime": {
     "end_time": "2024-07-31T19:48:33.989375Z",
     "start_time": "2024-07-31T19:48:33.975681Z"
    }
   },
   "cell_type": "code",
   "source": [
    "rs_filter = af['Launch Country'].isin(['Russia'])\n",
    "rs_df = af[rs_filter]\n",
    "rs_launch_cadence = rs_df['Year'].value_counts().sort_index()\n",
    "rs_launch_cadence"
   ],
   "id": "91b364a0846f03c7",
   "outputs": [
    {
     "data": {
      "text/plain": [
       "Year\n",
       "0       44\n",
       "1957     0\n",
       "1958     0\n",
       "1959     0\n",
       "1960     0\n",
       "        ..\n",
       "2016     6\n",
       "2017     6\n",
       "2018     8\n",
       "2019     9\n",
       "2020     3\n",
       "Name: count, Length: 65, dtype: int64"
      ]
     },
     "execution_count": 128,
     "metadata": {},
     "output_type": "execute_result"
    }
   ],
   "execution_count": 128
  },
  {
   "metadata": {},
   "cell_type": "code",
   "outputs": [],
   "execution_count": null,
   "source": "",
   "id": "d79597fd96f0d232"
  },
  {
   "metadata": {},
   "cell_type": "markdown",
   "source": [
    "Questions:\n",
    "\n",
    "What organization is the most successful?\n",
    "\n",
    "What rocket is the most successful?\n",
    "\n",
    "Which launch pad is the most used?\n",
    "\n",
    "What month of the year has the most launches per year and on average?"
   ],
   "id": "a0dd3aff35e0b743"
  },
  {
   "metadata": {
    "ExecuteTime": {
     "end_time": "2024-07-30T21:32:33.524530Z",
     "start_time": "2024-07-30T21:32:33.520123Z"
    }
   },
   "cell_type": "code",
   "source": "df['Rocket_Status'] = df['Rocket_Status'].astype('category')",
   "id": "190691859fa5d4be",
   "outputs": [],
   "execution_count": 24
  },
  {
   "metadata": {
    "ExecuteTime": {
     "end_time": "2024-07-31T19:28:49.680811Z",
     "start_time": "2024-07-31T19:28:49.673084Z"
    }
   },
   "cell_type": "code",
   "source": "af.info()",
   "id": "cd6456a0cb0bd9c4",
   "outputs": [
    {
     "name": "stdout",
     "output_type": "stream",
     "text": [
      "<class 'pandas.core.frame.DataFrame'>\n",
      "RangeIndex: 4324 entries, 0 to 4323\n",
      "Data columns (total 5 columns):\n",
      " #   Column          Non-Null Count  Dtype   \n",
      "---  ------          --------------  -----   \n",
      " 0   Organisation    4324 non-null   category\n",
      " 1   Launch Pad      4324 non-null   category\n",
      " 2   Launch Center   4324 non-null   category\n",
      " 3   Launch State    4324 non-null   category\n",
      " 4   Launch Country  4301 non-null   category\n",
      "dtypes: category(5)\n",
      "memory usage: 35.5 KB\n"
     ]
    }
   ],
   "execution_count": 106
  },
  {
   "metadata": {
    "ExecuteTime": {
     "end_time": "2024-07-31T14:05:55.110225Z",
     "start_time": "2024-07-31T14:05:55.094509Z"
    }
   },
   "cell_type": "code",
   "source": "df['Rocket_Status'].value_counts()",
   "id": "e3ada7d435e8d252",
   "outputs": [
    {
     "data": {
      "text/plain": [
       "Rocket_Status\n",
       "StatusRetired    3534\n",
       "StatusActive      790\n",
       "Name: count, dtype: int64"
      ]
     },
     "execution_count": 29,
     "metadata": {},
     "output_type": "execute_result"
    }
   ],
   "execution_count": 29
  },
  {
   "metadata": {
    "ExecuteTime": {
     "end_time": "2024-07-31T14:08:21.932859Z",
     "start_time": "2024-07-31T14:08:21.918268Z"
    }
   },
   "cell_type": "code",
   "source": [
    "is_retired_filter = df['Rocket_Status'] == 'StatusRetired'\n",
    "is_active_filter = df['Rocket_Status'] == 'StatusActive'\n",
    "\n",
    "is_retired = df[is_retired_filter]\n",
    "is_active = df[is_active_filter]\n",
    "\n",
    "is_retired['Date'].info()"
   ],
   "id": "770f9638460c4332",
   "outputs": [
    {
     "name": "stdout",
     "output_type": "stream",
     "text": [
      "<class 'pandas.core.series.Series'>\n",
      "Index: 3534 entries, 29 to 4323\n",
      "Series name: Date\n",
      "Non-Null Count  Dtype \n",
      "--------------  ----- \n",
      "3534 non-null   object\n",
      "dtypes: object(1)\n",
      "memory usage: 55.2+ KB\n"
     ]
    }
   ],
   "execution_count": 31
  },
  {
   "metadata": {
    "ExecuteTime": {
     "end_time": "2024-07-31T15:06:25.579418Z",
     "start_time": "2024-07-31T15:06:25.559703Z"
    }
   },
   "cell_type": "code",
   "source": [
    "# df['Year'].value_counts()\n",
    "df['Year'].dropna().describe()"
   ],
   "id": "1f77a6e45969ff59",
   "outputs": [
    {
     "ename": "TypeError",
     "evalue": "Series.dropna() takes 1 positional argument but 2 were given",
     "output_type": "error",
     "traceback": [
      "\u001B[1;31m---------------------------------------------------------------------------\u001B[0m",
      "\u001B[1;31mTypeError\u001B[0m                                 Traceback (most recent call last)",
      "Cell \u001B[1;32mIn[58], line 2\u001B[0m\n\u001B[0;32m      1\u001B[0m \u001B[38;5;66;03m# df['Year'].value_counts()\u001B[39;00m\n\u001B[1;32m----> 2\u001B[0m \u001B[43mdf\u001B[49m\u001B[43m[\u001B[49m\u001B[38;5;124;43m'\u001B[39;49m\u001B[38;5;124;43mYear\u001B[39;49m\u001B[38;5;124;43m'\u001B[39;49m\u001B[43m]\u001B[49m\u001B[38;5;241;43m.\u001B[39;49m\u001B[43mdropna\u001B[49m\u001B[43m(\u001B[49m\u001B[38;5;28;43;01mTrue\u001B[39;49;00m\u001B[43m)\u001B[49m\u001B[38;5;241m.\u001B[39mdescribe()\n",
      "\u001B[1;31mTypeError\u001B[0m: Series.dropna() takes 1 positional argument but 2 were given"
     ]
    }
   ],
   "execution_count": 58
  },
  {
   "metadata": {},
   "cell_type": "code",
   "outputs": [],
   "execution_count": null,
   "source": "",
   "id": "222e33f9b366a825"
  }
 ],
 "metadata": {
  "kernelspec": {
   "display_name": "Python 3",
   "language": "python",
   "name": "python3"
  },
  "language_info": {
   "codemirror_mode": {
    "name": "ipython",
    "version": 2
   },
   "file_extension": ".py",
   "mimetype": "text/x-python",
   "name": "python",
   "nbconvert_exporter": "python",
   "pygments_lexer": "ipython2",
   "version": "2.7.6"
  }
 },
 "nbformat": 4,
 "nbformat_minor": 5
}
