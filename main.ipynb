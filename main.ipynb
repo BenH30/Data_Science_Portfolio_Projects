{
 "cells": [
  {
   "cell_type": "code",
   "id": "initial_id",
   "metadata": {
    "collapsed": true,
    "ExecuteTime": {
     "end_time": "2024-07-30T21:08:10.839187Z",
     "start_time": "2024-07-30T21:08:10.831590Z"
    }
   },
   "source": "import pandas as pd",
   "outputs": [],
   "execution_count": 4
  },
  {
   "metadata": {
    "ExecuteTime": {
     "end_time": "2024-07-30T21:08:10.852166Z",
     "start_time": "2024-07-30T21:08:10.840443Z"
    }
   },
   "cell_type": "code",
   "source": "print(5+5)",
   "id": "225de2a89fe0caf6",
   "outputs": [
    {
     "name": "stdout",
     "output_type": "stream",
     "text": [
      "10\n"
     ]
    }
   ],
   "execution_count": 5
  },
  {
   "metadata": {
    "ExecuteTime": {
     "end_time": "2024-07-30T21:08:10.856067Z",
     "start_time": "2024-07-30T21:08:10.852166Z"
    }
   },
   "cell_type": "code",
   "source": "",
   "id": "65d336a64dc1dce2",
   "outputs": [],
   "execution_count": 5
  }
 ],
 "metadata": {
  "kernelspec": {
   "display_name": "Python 3",
   "language": "python",
   "name": "python3"
  },
  "language_info": {
   "codemirror_mode": {
    "name": "ipython",
    "version": 2
   },
   "file_extension": ".py",
   "mimetype": "text/x-python",
   "name": "python",
   "nbconvert_exporter": "python",
   "pygments_lexer": "ipython2",
   "version": "2.7.6"
  }
 },
 "nbformat": 4,
 "nbformat_minor": 5
}
